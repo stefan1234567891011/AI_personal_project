{
 "cells": [
  {
   "cell_type": "markdown",
   "metadata": {},
   "source": [
    "# import libraries"
   ]
  },
  {
   "cell_type": "code",
   "execution_count": null,
   "metadata": {},
   "outputs": [],
   "source": [
    "# import libraries\n",
    "import pandas as pd\n",
    "import numpy as np\n",
    "import matplotlib\n",
    "import matplotlib.pyplot as plt\n",
    "from sklearn.linear_model import LinearRegression\n",
    "from sklearn.linear_model import SGDRegressor\n",
    "\n",
    "# check library versions\n",
    "print('numpy version:', np.__version__)\n",
    "print('pandas version:', pd.__version__)\n",
    "# print('matplotlib version:', plt.__version__)"
   ]
  },
  {
   "cell_type": "markdown",
   "metadata": {},
   "source": [
    "# load csv file and check dataframe"
   ]
  },
  {
   "cell_type": "code",
   "execution_count": null,
   "metadata": {},
   "outputs": [],
   "source": [
    "# create dataframe and check if it works\n",
    "csv_path = \"../data/01-01-2012_31-12-2021/Ongevallengegevens/ongevallen.csv\" # 2012 to 2021\n",
    "# csv_path = \"../data/01-01-2021_31-12-2021/Ongevallengegevens/ongevallen.csv\" # 2021 only\n",
    "df_accidents = pd.read_csv(csv_path, sep=',')\n",
    "df_accidents.columns =[\"VKL_NUMMER\",\"REGNUMMER\",\"PVOPGEM\",\"DATUM_VKL\",\"DAG_CODE\",\"MND_NUMMER\",\"JAAR_VKL\",\"TIJDSTIP\",\"UUR\",\"DDL_ID\",\"AP3_CODE\",\"AP4_CODE\",\"AP5_CODE\",\"ANTL_SLA\",\"ANTL_DOD\",\"ANTL_GZH\",\"ANTL_SEH\",\"ANTL_GOV\",\"ANTL_PTJ\",\"ANTL_TDT\",\"MNE_CODE\",\"AOL_ID\",\"NIVEAUKOP\",\"WSE_ID\",\"WSE_AN\",\"BEBKOM\",\"MAXSNELHD\",\"WVL_ID\",\"WVG_ID\",\"WVG_AN\",\"WDK_ID\",\"WDK_AN\",\"LGD_ID\",\"ZAD_ID\",\"WGD_CODE_1\",\"WGD_CODE_2\",\"BZD_ID_VM1\",\"BZD_ID_VM2\",\"BZD_ID_VM3\",\"BZD_VM_AN\",\"BZD_ID_IF1\",\"BZD_ID_IF2\",\"BZD_ID_IF3\",\"BZD_IF_AN\",\"BZD_ID_TA1\",\"BZD_ID_TA2\",\"BZD_ID_TA3\",\"BZD_TA_AN\",\"JTE_ID\",\"WVK_ID\",\"HECTOMETER\",\"FK_VELD5\",\"HUISNUMMER\",\"GME_ID\",\"GME_NAAM\",\"PVE_CODE\",\"PVE_NAAM\",\"KDD_NAAM\",\"PLT_NAAM\",\"DIENSTCODE\",\"DIENSTNAAM\",\"DISTRCODE\",\"DISTRNAAM\",\"DAGTYPE\",\"IND_ALC\",\"WEEKNR\"]\n",
    "df_accidents.head(10)"
   ]
  },
  {
   "cell_type": "code",
   "execution_count": null,
   "metadata": {},
   "outputs": [],
   "source": [
    "# check how many fields are filled in per column\n",
    "for i, c in df_accidents.iteritems():\n",
    "    k = 0\n",
    "    for j in c:\n",
    "        if not pd.isna(j):\n",
    "            k+=1\n",
    "    print(i, \": \", k)"
   ]
  },
  {
   "cell_type": "markdown",
   "metadata": {},
   "source": [
    "# drop unnecessary columns"
   ]
  },
  {
   "cell_type": "code",
   "execution_count": null,
   "metadata": {},
   "outputs": [],
   "source": [
    "# test dropping columns\n",
    "df_test = df_accidents.drop(columns=[\"PVOPGEM\", \"DATUM_VKL\"])\n",
    "df_test.head(10)"
   ]
  },
  {
   "cell_type": "code",
   "execution_count": null,
   "metadata": {},
   "outputs": [],
   "source": [
    "# drop columns with less than x non empty in cells\n",
    "threshold = 100000\n",
    "df_2 = df_accidents\n",
    "bad_rows = []\n",
    "for i, c in df_accidents.iteritems():\n",
    "    k = 0\n",
    "    for j in c:\n",
    "        if not pd.isna(j):\n",
    "            k+=1\n",
    "    if k <= threshold:\n",
    "        bad_rows.append(i)\n",
    "df_2 = df_2.drop(columns=bad_rows)\n",
    "df_2.head(10)"
   ]
  },
  {
   "cell_type": "code",
   "execution_count": null,
   "metadata": {},
   "outputs": [],
   "source": [
    "for i, c in df_2.iteritems():\n",
    "    k = 0\n",
    "    for j in c:\n",
    "        if not pd.isna(j):\n",
    "            k+=1\n",
    "    print(i, \": \", k)"
   ]
  },
  {
   "cell_type": "markdown",
   "metadata": {},
   "source": [
    "# plot yearly and apply linear regression"
   ]
  },
  {
   "cell_type": "code",
   "execution_count": null,
   "metadata": {},
   "outputs": [],
   "source": [
    "# plot yearly accidents\n",
    "\n",
    "min_year = df_2.min(axis='rows', numeric_only=True)[1].astype(int)\n",
    "max_year = df_2.max(axis='rows', numeric_only=True)[1].astype(int)\n",
    "year = range(min_year, max_year + 1)\n",
    "n_accidents = []\n",
    "for i, j in enumerate(year):\n",
    "    n = 0\n",
    "    for k in df_2.iloc[:,2]:\n",
    "        if j == k:\n",
    "            n+=1\n",
    "    n_accidents.insert(i, n)\n",
    "\n",
    "print(year)\n",
    "print(n_accidents)\n",
    "fig, ax = plt.subplots()\n",
    "ax.plot(year, n_accidents)\n",
    "plt.show()"
   ]
  },
  {
   "cell_type": "code",
   "execution_count": null,
   "metadata": {},
   "outputs": [],
   "source": [
    "print(year)\n",
    "print(n_accidents)\n",
    "year_2 = np.array(year).reshape(-1, 1)\n",
    "n_accidents_2 = n_accidents\n",
    "linear_regressor = LinearRegression()\n",
    "linear_regressor.fit(year_2, n_accidents_2)\n",
    "Y_pred = linear_regressor.predict(year_2)"
   ]
  },
  {
   "cell_type": "code",
   "execution_count": null,
   "metadata": {},
   "outputs": [],
   "source": [
    "# show proper figure\n",
    "plt.title(\"yearly total number of road accidents in the netherlands\")\n",
    "plt.xlabel(\"year\")\n",
    "plt.ylabel(\"number of accidents\")\n",
    "\n",
    "plt.plot(year, n_accidents, label=\"total accidents\")\n",
    "plt.plot(year, Y_pred, color=\"red\", label=\"trendline\")\n",
    "plt.legend()\n",
    "plt.show()"
   ]
  },
  {
   "cell_type": "markdown",
   "metadata": {},
   "source": [
    "# plot monthly and apply linear regression"
   ]
  },
  {
   "cell_type": "code",
   "execution_count": null,
   "metadata": {},
   "outputs": [],
   "source": [
    "print(df_2[\"PVE_NAAM\"].unique())\n",
    "print(df_2[\"PVE_CODE\"].unique())"
   ]
  },
  {
   "cell_type": "code",
   "execution_count": null,
   "metadata": {},
   "outputs": [],
   "source": [
    "df_4 = df_2\n",
    "df_4[\"PVE_NUMR\"] = df_4[\"PVE_CODE\"].map( {\"ZH\" : 1, \"NB\" : 2, \"LB\" : 3, \"GL\" : 4, \"FL\" : 5, \"UT\" : 6, \"NH\" : 7, \"FR\" : 8, \"GR\" : 9, \"DR\" : 10, \"ZL\" : 11, \"OV\" : 12} ).astype(int)\n",
    "df_4.head(3)"
   ]
  },
  {
   "cell_type": "code",
   "execution_count": null,
   "metadata": {},
   "outputs": [],
   "source": [
    "df_5 = df_4[[\"JAAR_VKL\", \"PVE_CODE\", \"PVE_NUMR\"]]\n",
    "df_5.head(5)"
   ]
  },
  {
   "cell_type": "code",
   "execution_count": null,
   "metadata": {},
   "outputs": [],
   "source": [
    "years_6 = df_5[\"JAAR_VKL\"].unique()\n",
    "provinces_6 = df_5[\"PVE_CODE\"].unique()\n",
    "provinces_number_6 = df_5[\"PVE_NUMR\"].unique()\n",
    "\n",
    "df_6 = pd.DataFrame(columns=[\"YEAR\", \"PROVINCE\", \"N_ACCIDENTS\"])\n",
    "i = 0\n",
    "for j in years_6:\n",
    "    for k in provinces_6:\n",
    "        df_6.loc[i] = [j, k, 0]\n",
    "        i+=1\n",
    "\n",
    "\n",
    "df_6"
   ]
  },
  {
   "cell_type": "code",
   "execution_count": null,
   "metadata": {},
   "outputs": [],
   "source": [
    "# for i, j in df_5.iterrows():\n",
    "#     for k, l in df_6.iterrows():\n",
    "#         if j[0] == l[0] and j[1] == l[1]:\n",
    "#             df_6.iloc[k, 2] = df_6.iloc[k, 2] +1\n",
    "#             break\n",
    "\n",
    "# df_6"
   ]
  },
  {
   "cell_type": "code",
   "execution_count": null,
   "metadata": {},
   "outputs": [],
   "source": [
    "df_6.to_csv(\"df_6.csv\", index=False)"
   ]
  },
  {
   "cell_type": "code",
   "execution_count": null,
   "metadata": {},
   "outputs": [],
   "source": [
    "df_7 = pd.read_csv(\"df_6.csv\", sep=',')\n",
    "df_7"
   ]
  },
  {
   "cell_type": "code",
   "execution_count": null,
   "metadata": {},
   "outputs": [],
   "source": [
    "target_province = \"DR\"\n",
    "sub_df_7 = df_7[df_7[\"PROVINCE\"]==target_province]\n",
    "sub_df_7"
   ]
  },
  {
   "cell_type": "code",
   "execution_count": null,
   "metadata": {},
   "outputs": [],
   "source": [
    "min_year = df_7[\"YEAR\"].min()\n",
    "max_year = df_7[\"YEAR\"].max()\n",
    "year = range(min_year, max_year + 1)\n",
    "n_accidents = []\n",
    "for i, j in enumerate(year):\n",
    "    row = sub_df_7.loc[df_7[\"YEAR\"]==j]\n",
    "    n_accidents.insert(i, row[\"N_ACCIDENTS\"])\n",
    "fig, ax = plt.subplots()\n",
    "ax.plot(year, n_accidents)\n",
    "plt.show()"
   ]
  },
  {
   "cell_type": "code",
   "execution_count": null,
   "metadata": {},
   "outputs": [],
   "source": [
    "target_province = \"GR\"\n",
    "df_7 = df_5.loc[df_5[\"PVE_CODE\"] == target_province]\n",
    "df_9 = df_7[\"JAAR_VKL\"].value_counts()\n",
    "df_10 = df_9.reset_index()\n",
    "df_11 = df_10.sort_values(\"index\", ignore_index=True)\n",
    "print(df_9)\n",
    "print(df_10)\n",
    "print(df_11)"
   ]
  },
  {
   "cell_type": "code",
   "execution_count": null,
   "metadata": {},
   "outputs": [],
   "source": [
    "year = df_11.iloc[:,0]\n",
    "n_accidents = df_11.iloc[:,1]\n",
    "year_2 = np.array(year).reshape(-1, 1)\n",
    "n_accidents_2 = n_accidents\n",
    "linear_regressor = LinearRegression()\n",
    "linear_regressor.fit(year_2, n_accidents_2)\n",
    "Y_pred = linear_regressor.predict(year_2)\n",
    "plt.title(\"yearly total number of road accidents in the netherlands\")\n",
    "plt.xlabel(\"year\")\n",
    "plt.ylabel(\"number of accidents\")\n",
    "\n",
    "plt.plot(year, n_accidents, label=\"total accidents in \" + target_province)\n",
    "plt.plot(year, Y_pred, color=\"red\", label=\"trendline\")\n",
    "plt.legend()\n",
    "plt.show()"
   ]
  },
  {
   "cell_type": "code",
   "execution_count": null,
   "metadata": {},
   "outputs": [],
   "source": [
    "year = df_11.iloc[:,0]\n",
    "n_accidents = df_11.iloc[:,1]\n",
    "year_2 = np.array(year).reshape(-1, 1)\n",
    "n_accidents_2 = n_accidents\n",
    "SGD_regression = SGDRegressor()\n",
    "SGD_regression.fit(year_2, n_accidents_2)\n",
    "Y_pred = SGD_regression.predict(year_2)\n",
    "plt.title(\"yearly total number of road accidents in the netherlands\")\n",
    "plt.xlabel(\"year\")\n",
    "plt.ylabel(\"number of accidents\")\n",
    "\n",
    "# plt.plot(year, n_accidents, label=\"total accidents in \" + target_province)\n",
    "plt.plot(year, Y_pred, color=\"red\", label=\"trendline\")\n",
    "plt.legend()\n",
    "plt.show()"
   ]
  }
 ],
 "metadata": {
  "kernelspec": {
   "display_name": "Python 3.9.12 ('base')",
   "language": "python",
   "name": "python3"
  },
  "language_info": {
   "codemirror_mode": {
    "name": "ipython",
    "version": 3
   },
   "file_extension": ".py",
   "mimetype": "text/x-python",
   "name": "python",
   "nbconvert_exporter": "python",
   "pygments_lexer": "ipython3",
   "version": "3.9.12"
  },
  "orig_nbformat": 4,
  "vscode": {
   "interpreter": {
    "hash": "a4f33e6d924b82a5bb3da1472144b58068ddb3501d547285698ddb036e44231a"
   }
  }
 },
 "nbformat": 4,
 "nbformat_minor": 2
}
